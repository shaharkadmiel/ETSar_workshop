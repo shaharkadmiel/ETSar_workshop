{
 "cells": [
  {
   "cell_type": "markdown",
   "metadata": {},
   "source": [
    "<div\n",
    "    style='background-image: url(\"assets/header.png\"); padding: 0px;\n",
    "           background-size: cover; border-radius: 10px; height: 250px;\n",
    "           background-position: 50% 50%'\n",
    "     >\n",
    "    <div\n",
    "        style=\"margin: auto; position: relative; top: 10px;\n",
    "               background: rgba(255 , 255 , 255 , 0.2);\n",
    "               width: 85%; height: 80px;\n",
    "               border-radius: 10px\"\n",
    "         >\n",
    "        <div\n",
    "            style=\"position: relative; top: 50%;\n",
    "                   transform: translatey(-50%)\">\n",
    "            <div\n",
    "                style=\"font-size: xx-large; font-weight: 900;\n",
    "                       text-align: center;\n",
    "                       color: rgba(0 , 0 , 0 , 1);\n",
    "                       line-height: 100%\"\n",
    "                 >\n",
    "                Sardinia Workshop | Hands-on session\n",
    "            </div>\n",
    "            <div\n",
    "                style=\"font-size: large; padding-top: 20px;\n",
    "                       text-align: center;\n",
    "                       color: rgba(0 , 0 , 0 , 1)\"\n",
    "                 >\n",
    "                Chairs: <em>Matteo Di Giovanni (GSSI) &\n",
    "                Shahar Shani-Kadmiel (KNMI)</em>\n",
    "            </div>\n",
    "        </div>\n",
    "    </div>\n",
    "</div>\n",
    "<div\n",
    "     style=\"text-align: right; font-size: 10px\"\n",
    "     >\n",
    "    <em>Photo by Shahar Shani-Kadmiel, November 7, 2021</em>\n",
    "    </div>"
   ]
  },
  {
   "cell_type": "markdown",
   "metadata": {},
   "source": [
    "# Table of contents\n",
    "\n",
    "1. General intoduction to Python and Jupyter Notebooks (Matteo)\n",
    "1. ObsPy crash course: (Matteo)\n",
    "    - Fetching data from FDSN web services (`get_stations`, `get_waveforms`, `get_events`, ...)\n",
    "    - signal processing\n",
    "    - FFT, spectrogram\n",
    "    - more advanced plotting\n",
    "1. Data formats and standards (Shahar)\n",
    "    - Why we need it?\n",
    "    - Data types and formats\n",
    "    - Label your data!\n",
    "1. pandas and xarray crash course (Shahar)\n",
    "    - IO\n",
    "    - Resampling, Grouping, etc.\n",
    "1. Map making with Cartopy (Shahar)\n",
    "1. Combined exercise (Shahar)"
   ]
  },
  {
   "cell_type": "code",
   "execution_count": null,
   "metadata": {},
   "outputs": [],
   "source": []
  }
 ],
 "metadata": {
  "kernelspec": {
   "display_name": "Python 3",
   "language": "python",
   "name": "python3"
  },
  "language_info": {
   "codemirror_mode": {
    "name": "ipython",
    "version": 3
   },
   "file_extension": ".py",
   "mimetype": "text/x-python",
   "name": "python",
   "nbconvert_exporter": "python",
   "pygments_lexer": "ipython3",
   "version": "3.8.3"
  },
  "toc": {
   "base_numbering": 1,
   "nav_menu": {},
   "number_sections": false,
   "sideBar": true,
   "skip_h1_title": false,
   "title_cell": "Table of Contents",
   "title_sidebar": "Contents",
   "toc_cell": false,
   "toc_position": {},
   "toc_section_display": true,
   "toc_window_display": false
  },
  "varInspector": {
   "cols": {
    "lenName": 16,
    "lenType": 16,
    "lenVar": 40
   },
   "kernels_config": {
    "python": {
     "delete_cmd_postfix": "",
     "delete_cmd_prefix": "del ",
     "library": "var_list.py",
     "varRefreshCmd": "print(var_dic_list())"
    },
    "r": {
     "delete_cmd_postfix": ") ",
     "delete_cmd_prefix": "rm(",
     "library": "var_list.r",
     "varRefreshCmd": "cat(var_dic_list()) "
    }
   },
   "types_to_exclude": [
    "module",
    "function",
    "builtin_function_or_method",
    "instance",
    "_Feature"
   ],
   "window_display": false
  }
 },
 "nbformat": 4,
 "nbformat_minor": 2
}
